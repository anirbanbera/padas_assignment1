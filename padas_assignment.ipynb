{
 "cells": [
  {
   "cell_type": "code",
   "execution_count": 1,
   "id": "ef7f6b97-9aa5-43a1-8c0d-4bf8bfb0ecb4",
   "metadata": {},
   "outputs": [],
   "source": [
    "import pandas as pd"
   ]
  },
  {
   "cell_type": "markdown",
   "id": "baf174d8-e875-4726-993a-19ec475486b2",
   "metadata": {},
   "source": [
    "1.Create a Pandas Series that contains the following data: 4, 8, 15, 16, 23, and 42. Then, print the series."
   ]
  },
  {
   "cell_type": "code",
   "execution_count": 8,
   "id": "8a1b0ac6-346b-436d-a084-8f62c627bcf2",
   "metadata": {},
   "outputs": [],
   "source": [
    "l={0: 4, 1: 8, 2:15, 3:16, 4:23,5:42}\n"
   ]
  },
  {
   "cell_type": "code",
   "execution_count": 9,
   "id": "7b997459-9c66-4e69-a085-d2c20fa71924",
   "metadata": {},
   "outputs": [],
   "source": [
    "ans=pd.Series(l)"
   ]
  },
  {
   "cell_type": "code",
   "execution_count": 10,
   "id": "2900f660-2e37-4999-9517-b218f55a0827",
   "metadata": {},
   "outputs": [
    {
     "data": {
      "text/plain": [
       "0     4\n",
       "1     8\n",
       "2    15\n",
       "3    16\n",
       "4    23\n",
       "5    42\n",
       "dtype: int64"
      ]
     },
     "execution_count": 10,
     "metadata": {},
     "output_type": "execute_result"
    }
   ],
   "source": [
    "ans"
   ]
  },
  {
   "cell_type": "markdown",
   "id": "20ee4175-ffa6-4a68-8546-91a71a3a6eee",
   "metadata": {},
   "source": [
    "Q2. Create a variable of list type containing 10 elements in it, and apply pandas.Series function on the\n",
    "variable print it."
   ]
  },
  {
   "cell_type": "code",
   "execution_count": 18,
   "id": "6f220e60-2e56-41ce-8967-24db7c0e1257",
   "metadata": {},
   "outputs": [
    {
     "data": {
      "text/plain": [
       "0    0\n",
       "1    1\n",
       "2    2\n",
       "3    3\n",
       "4    4\n",
       "5    5\n",
       "6    6\n",
       "7    7\n",
       "8    8\n",
       "9    9\n",
       "dtype: int64"
      ]
     },
     "execution_count": 18,
     "metadata": {},
     "output_type": "execute_result"
    }
   ],
   "source": [
    "l=[]\n",
    "for i in range(10):\n",
    "    l.append(i)\n",
    "ans2=pd.Series(l)\n",
    "ans2"
   ]
  },
  {
   "cell_type": "markdown",
   "id": "a6e403a4-203b-4bf1-a67b-da5800f0b501",
   "metadata": {},
   "source": [
    "Q3. Create a Pandas DataFrame that contains the following data:"
   ]
  },
  {
   "cell_type": "code",
   "execution_count": 19,
   "id": "866fdad4-7f66-4485-a3db-c382ce3f9cf0",
   "metadata": {},
   "outputs": [],
   "source": [
    "df=pd.read_csv(\"data.csv\")"
   ]
  },
  {
   "cell_type": "code",
   "execution_count": 20,
   "id": "44a122e5-ab2a-490a-9f53-88bc6800df2c",
   "metadata": {},
   "outputs": [
    {
     "data": {
      "text/html": [
       "<div>\n",
       "<style scoped>\n",
       "    .dataframe tbody tr th:only-of-type {\n",
       "        vertical-align: middle;\n",
       "    }\n",
       "\n",
       "    .dataframe tbody tr th {\n",
       "        vertical-align: top;\n",
       "    }\n",
       "\n",
       "    .dataframe thead th {\n",
       "        text-align: right;\n",
       "    }\n",
       "</style>\n",
       "<table border=\"1\" class=\"dataframe\">\n",
       "  <thead>\n",
       "    <tr style=\"text-align: right;\">\n",
       "      <th></th>\n",
       "      <th>Name</th>\n",
       "      <th>Age</th>\n",
       "      <th>Gender</th>\n",
       "    </tr>\n",
       "  </thead>\n",
       "  <tbody>\n",
       "    <tr>\n",
       "      <th>0</th>\n",
       "      <td>Alice</td>\n",
       "      <td>25</td>\n",
       "      <td>Female</td>\n",
       "    </tr>\n",
       "    <tr>\n",
       "      <th>1</th>\n",
       "      <td>Bob</td>\n",
       "      <td>30</td>\n",
       "      <td>Male</td>\n",
       "    </tr>\n",
       "    <tr>\n",
       "      <th>2</th>\n",
       "      <td>Claire</td>\n",
       "      <td>27</td>\n",
       "      <td>Female</td>\n",
       "    </tr>\n",
       "  </tbody>\n",
       "</table>\n",
       "</div>"
      ],
      "text/plain": [
       "     Name  Age  Gender\n",
       "0   Alice   25  Female\n",
       "1     Bob   30    Male\n",
       "2  Claire   27  Female"
      ]
     },
     "execution_count": 20,
     "metadata": {},
     "output_type": "execute_result"
    }
   ],
   "source": [
    "df"
   ]
  },
  {
   "cell_type": "code",
   "execution_count": 21,
   "id": "1f6199b3-dc1c-4046-a52a-f5debbe62179",
   "metadata": {},
   "outputs": [
    {
     "data": {
      "text/plain": [
       "pandas.core.frame.DataFrame"
      ]
     },
     "execution_count": 21,
     "metadata": {},
     "output_type": "execute_result"
    }
   ],
   "source": [
    "type(df)"
   ]
  },
  {
   "cell_type": "markdown",
   "id": "c5d5a0da-a0ab-42fd-ab95-daf081b739d5",
   "metadata": {},
   "source": [
    "##Q4. What is ‘DataFrame’ in pandas and how is it different from pandas.series? Explain with an example."
   ]
  },
  {
   "cell_type": "markdown",
   "id": "5e9e5521-d377-4c6e-a0e2-ac597151fd85",
   "metadata": {},
   "source": [
    "dataframe:Is a 2 dimentional data-structure where 1st row tells about properties of data\n",
    "          And second row tells about values of the current object\n",
    "                                    Seris is 1 dimentional and dataframe is 2 dimentional"
   ]
  },
  {
   "cell_type": "markdown",
   "id": "6541c306-c2e4-475d-90d1-61f9036cf07a",
   "metadata": {},
   "source": [
    "Q5. What are some common functions you can use to manipulate data in a Pandas DataFrame? Can\n",
    "you give an example of when you might use one of these functions?"
   ]
  },
  {
   "cell_type": "markdown",
   "id": "cd5f3b70-0a10-450e-9fcc-3abb0b765ebd",
   "metadata": {},
   "source": [
    "1.read_csv=to read the data from csv file\n",
    "2.read_excel=to read the data from excel file\n",
    "3.head()=to read first 5 rows\n",
    "4.tail()=to read last 5 rows\n",
    "5.colums=to see the properties of data means first rows where properties are written\n",
    "6.dtypes=Return the dtypes in the DataFrame"
   ]
  },
  {
   "cell_type": "markdown",
   "id": "9b24b280-fde5-415f-acfe-c97de472e5bf",
   "metadata": {},
   "source": [
    "### Q6. Which of the following is mutable in nature Series, DataFrame, Panel?\n"
   ]
  },
  {
   "cell_type": "markdown",
   "id": "a1dba9be-8c4a-4c4f-9ae0-1f7f8f492d17",
   "metadata": {},
   "source": [
    "dataframe"
   ]
  },
  {
   "cell_type": "code",
   "execution_count": null,
   "id": "cc199b8c-e4d5-4d0a-927a-ef443b48bc8c",
   "metadata": {},
   "outputs": [],
   "source": []
  }
 ],
 "metadata": {
  "kernelspec": {
   "display_name": "Python 3 (ipykernel)",
   "language": "python",
   "name": "python3"
  },
  "language_info": {
   "codemirror_mode": {
    "name": "ipython",
    "version": 3
   },
   "file_extension": ".py",
   "mimetype": "text/x-python",
   "name": "python",
   "nbconvert_exporter": "python",
   "pygments_lexer": "ipython3",
   "version": "3.10.8"
  }
 },
 "nbformat": 4,
 "nbformat_minor": 5
}
